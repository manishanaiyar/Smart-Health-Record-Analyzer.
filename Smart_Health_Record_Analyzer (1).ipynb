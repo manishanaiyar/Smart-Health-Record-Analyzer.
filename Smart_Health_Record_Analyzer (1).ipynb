{
  "cells": [
    {
      "cell_type": "markdown",
      "id": "4f8c38c0",
      "metadata": {
        "id": "4f8c38c0"
      },
      "source": [
        "# 🏥 Smart Health Record Analyzer\n",
        "This notebook analyzes patient records using SQLite and SQL queries."
      ]
    },
    {
      "cell_type": "code",
      "execution_count": 1,
      "id": "98398118",
      "metadata": {
        "colab": {
          "base_uri": "https://localhost:8080/"
        },
        "id": "98398118",
        "outputId": "3c2ad0df-a091-44fe-95e2-ac955d2dec98"
      },
      "outputs": [
        {
          "output_type": "stream",
          "name": "stdout",
          "text": [
            "Database setup complete!\n"
          ]
        }
      ],
      "source": [
        "\n",
        "import sqlite3\n",
        "import pandas as pd\n",
        "\n",
        "# Connect to SQLite database (in-memory for testing)\n",
        "conn = sqlite3.connect(\":memory:\")\n",
        "cursor = conn.cursor()\n",
        "\n",
        "# Create Patients table\n",
        "cursor.execute('''\n",
        "CREATE TABLE patients (\n",
        "    patient_id INTEGER PRIMARY KEY,\n",
        "    name TEXT,\n",
        "    age INTEGER,\n",
        "    gender TEXT\n",
        ");\n",
        "''')\n",
        "\n",
        "# Create Visits table (records patient visits to doctors)\n",
        "cursor.execute('''\n",
        "CREATE TABLE visits (\n",
        "    visit_id INTEGER PRIMARY KEY,\n",
        "    patient_id INTEGER,\n",
        "    visit_date TEXT,\n",
        "    doctor_name TEXT,\n",
        "    diagnosis TEXT,\n",
        "    treatment TEXT,\n",
        "    FOREIGN KEY (patient_id) REFERENCES patients(patient_id)\n",
        ");\n",
        "''')\n",
        "\n",
        "# Insert sample patients\n",
        "patients_data = [\n",
        "    (1, 'John Doe', 35, 'Male'),\n",
        "    (2, 'Jane Smith', 42, 'Female'),\n",
        "    (3, 'Alice Johnson', 28, 'Female'),\n",
        "    (4, 'Bob Williams', 50, 'Male'),\n",
        "    (5, 'Charlie Brown', 60, 'Male')\n",
        "]\n",
        "cursor.executemany(\"INSERT INTO patients VALUES (?, ?, ?, ?)\", patients_data)\n",
        "\n",
        "# Insert sample visits\n",
        "visits_data = [\n",
        "    (1, 1, '2024-01-10', 'Dr. Adams', 'Flu', 'Rest & hydration'),\n",
        "    (2, 2, '2024-01-15', 'Dr. Lee', 'Hypertension', 'Medication'),\n",
        "    (3, 3, '2024-02-05', 'Dr. Adams', 'Allergy', 'Antihistamines'),\n",
        "    (4, 4, '2024-02-20', 'Dr. Brown', 'Diabetes', 'Diet control & insulin'),\n",
        "    (5, 5, '2024-03-01', 'Dr. Lee', 'Flu', 'Rest & hydration'),\n",
        "    (6, 1, '2024-03-10', 'Dr. Adams', 'Flu', 'Rest & hydration'),\n",
        "    (7, 2, '2024-03-12', 'Dr. Lee', 'Hypertension', 'Medication'),\n",
        "    (8, 3, '2024-03-15', 'Dr. Adams', 'Flu', 'Rest & hydration')\n",
        "]\n",
        "cursor.executemany(\"INSERT INTO visits VALUES (?, ?, ?, ?, ?, ?)\", visits_data)\n",
        "\n",
        "conn.commit()\n",
        "\n",
        "print(\"Database setup complete!\")\n"
      ]
    },
    {
      "cell_type": "markdown",
      "id": "223c8d1f",
      "metadata": {
        "id": "223c8d1f"
      },
      "source": [
        "## 🔍 Find Most Common Diagnoses"
      ]
    },
    {
      "cell_type": "code",
      "execution_count": 2,
      "id": "993a5430",
      "metadata": {
        "colab": {
          "base_uri": "https://localhost:8080/"
        },
        "id": "993a5430",
        "outputId": "077e8c81-e18c-431d-a673-5e650b21277d"
      },
      "outputs": [
        {
          "output_type": "stream",
          "name": "stdout",
          "text": [
            "      diagnosis  count\n",
            "0           Flu      4\n",
            "1  Hypertension      2\n",
            "2      Diabetes      1\n",
            "3       Allergy      1\n"
          ]
        }
      ],
      "source": [
        "\n",
        "query = '''\n",
        "SELECT diagnosis, COUNT(*) AS count\n",
        "FROM visits\n",
        "GROUP BY diagnosis\n",
        "ORDER BY count DESC;\n",
        "'''\n",
        "df_diagnoses = pd.read_sql_query(query, conn)\n",
        "print(df_diagnoses)\n"
      ]
    },
    {
      "cell_type": "markdown",
      "id": "6848cfec",
      "metadata": {
        "id": "6848cfec"
      },
      "source": [
        "## 📊 Find Monthly Disease Trends"
      ]
    },
    {
      "cell_type": "code",
      "execution_count": 3,
      "id": "0efbc5e6",
      "metadata": {
        "colab": {
          "base_uri": "https://localhost:8080/"
        },
        "id": "0efbc5e6",
        "outputId": "dd391727-445e-4df6-fcae-110e2d71a936"
      },
      "outputs": [
        {
          "output_type": "stream",
          "name": "stdout",
          "text": [
            "     month     diagnosis  cases\n",
            "0  2024-03           Flu      3\n",
            "1  2024-03  Hypertension      1\n",
            "2  2024-02      Diabetes      1\n",
            "3  2024-02       Allergy      1\n",
            "4  2024-01  Hypertension      1\n",
            "5  2024-01           Flu      1\n"
          ]
        }
      ],
      "source": [
        "\n",
        "query = '''\n",
        "SELECT strftime('%Y-%m', visit_date) AS month, diagnosis, COUNT(*) AS cases\n",
        "FROM visits\n",
        "GROUP BY month, diagnosis\n",
        "ORDER BY month DESC, cases DESC;\n",
        "'''\n",
        "df_trends = pd.read_sql_query(query, conn)\n",
        "print(df_trends)\n"
      ]
    },
    {
      "cell_type": "markdown",
      "id": "8c92a717",
      "metadata": {
        "id": "8c92a717"
      },
      "source": [
        "## 👨‍⚕️ Top Doctors by Patient Count"
      ]
    },
    {
      "cell_type": "code",
      "execution_count": 4,
      "id": "64a7ffba",
      "metadata": {
        "colab": {
          "base_uri": "https://localhost:8080/"
        },
        "id": "64a7ffba",
        "outputId": "c69e9f06-a35d-4867-dac8-de3ea9e4e07c"
      },
      "outputs": [
        {
          "output_type": "stream",
          "name": "stdout",
          "text": [
            "  doctor_name  patient_count\n",
            "0   Dr. Adams              4\n",
            "1     Dr. Lee              3\n",
            "2   Dr. Brown              1\n"
          ]
        }
      ],
      "source": [
        "\n",
        "query = '''\n",
        "SELECT doctor_name, COUNT(*) AS patient_count\n",
        "FROM visits\n",
        "GROUP BY doctor_name\n",
        "ORDER BY patient_count DESC;\n",
        "'''\n",
        "df_doctors = pd.read_sql_query(query, conn)\n",
        "print(df_doctors)\n"
      ]
    },
    {
      "cell_type": "markdown",
      "id": "2b077365",
      "metadata": {
        "id": "2b077365"
      },
      "source": [
        "## 🔁 Find Frequent Patients (More Than 1 Visit)"
      ]
    },
    {
      "cell_type": "code",
      "execution_count": 5,
      "id": "eb20103e",
      "metadata": {
        "colab": {
          "base_uri": "https://localhost:8080/"
        },
        "id": "eb20103e",
        "outputId": "8c9e41b5-fb55-4114-ba20-b879569256fb"
      },
      "outputs": [
        {
          "output_type": "stream",
          "name": "stdout",
          "text": [
            "            name  visit_count\n",
            "0       John Doe            2\n",
            "1     Jane Smith            2\n",
            "2  Alice Johnson            2\n"
          ]
        }
      ],
      "source": [
        "\n",
        "query = '''\n",
        "SELECT p.name, COUNT(v.visit_id) AS visit_count\n",
        "FROM patients p\n",
        "JOIN visits v ON p.patient_id = v.patient_id\n",
        "GROUP BY p.name\n",
        "HAVING visit_count > 1\n",
        "ORDER BY visit_count DESC;\n",
        "'''\n",
        "df_frequent_patients = pd.read_sql_query(query, conn)\n",
        "print(df_frequent_patients)\n"
      ]
    },
    {
      "cell_type": "markdown",
      "id": "c309f5cf",
      "metadata": {
        "id": "c309f5cf"
      },
      "source": [
        "## ✅ Conclusion\n",
        "- This SQL-based **Health Record Analyzer** provides insights into common diseases, trends, and doctor efficiency.\n",
        "- The queries can be expanded to analyze treatment effectiveness, age-based illness patterns, and more!"
      ]
    }
  ],
  "metadata": {
    "colab": {
      "provenance": []
    },
    "language_info": {
      "name": "python"
    },
    "kernelspec": {
      "name": "python3",
      "display_name": "Python 3"
    }
  },
  "nbformat": 4,
  "nbformat_minor": 5
}